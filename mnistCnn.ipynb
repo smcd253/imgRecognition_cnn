{
  "nbformat": 4,
  "nbformat_minor": 0,
  "metadata": {
    "colab": {
      "name": "mnistCnn.ipynb",
      "version": "0.3.2",
      "provenance": [],
      "collapsed_sections": [],
      "include_colab_link": true
    },
    "kernelspec": {
      "name": "python3",
      "display_name": "Python 3"
    }
  },
  "cells": [
    {
      "cell_type": "markdown",
      "metadata": {
        "id": "view-in-github",
        "colab_type": "text"
      },
      "source": [
        "<a href=\"https://colab.research.google.com/github/smcd253/imgRecognition_cnn/blob/master/mnistCnn.ipynb\" target=\"_parent\"><img src=\"https://colab.research.google.com/assets/colab-badge.svg\" alt=\"Open In Colab\"/></a>"
      ]
    },
    {
      "metadata": {
        "id": "37QK9gFLR_Om",
        "colab_type": "code",
        "colab": {
          "base_uri": "https://localhost:8080/",
          "height": 364
        },
        "outputId": "0cd46f10-68a2-4b5e-dd30-d8e251a4fe3c"
      },
      "cell_type": "code",
      "source": [
        "# -*- coding: utf-8 -*-\n",
        "\"\"\"\n",
        "Training a Classifier\n",
        "=====================\n",
        "This is it. You have seen how to define neural networks, compute loss and make\n",
        "updates to the weights of the network.\n",
        "Now you might be thinking,\n",
        "What about data?\n",
        "----------------\n",
        "Generally, when you have to deal with image, text, audio or video data,\n",
        "you can use standard python packages that load data into a numpy array.\n",
        "Then you can convert this array into a ``torch.*Tensor``.\n",
        "-  For images, packages such as Pillow, OpenCV are useful\n",
        "-  For audio, packages such as scipy and librosa\n",
        "-  For text, either raw Python or Cython based loading, or NLTK and\n",
        "   SpaCy are useful\n",
        "Specifically for vision, we have created a package called\n",
        "``torchvision``, that has data loaders for common datasets such as\n",
        "Imagenet, CIFAR10, MNIST, etc. and data transformers for images, viz.,\n",
        "``torchvision.datasets`` and ``torch.utils.data.DataLoader``.\n",
        "This provides a huge convenience and avoids writing boilerplate code.\n",
        "For this tutorial, we will use the CIFAR10 dataset.\n",
        "It has the classes: ‘airplane’, ‘automobile’, ‘bird’, ‘cat’, ‘deer’,\n",
        "‘dog’, ‘frog’, ‘horse’, ‘ship’, ‘truck’. The images in CIFAR-10 are of\n",
        "size 3x32x32, i.e. 3-channel color images of 32x32 pixels in size.\n",
        ".. figure:: /_static/img/cifar10.png\n",
        "   :alt: cifar10\n",
        "   cifar10\n",
        "Training an image classifier\n",
        "----------------------------\n",
        "We will do the following steps in order:\n",
        "1. Load and normalizing the CIFAR10 training and test datasets using\n",
        "   ``torchvision``\n",
        "2. Define a Convolutional Neural Network\n",
        "3. Define a loss function\n",
        "4. Train the network on the training data\n",
        "5. Test the network on the test data\n",
        "1. Loading and normalizing CIFAR10\n",
        "^^^^^^^^^^^^^^^^^^^^^^^^^^^^^^^^^^\n",
        "Using ``torchvision``, it’s extremely easy to load CIFAR10.\n",
        "\"\"\"\n",
        "import torch\n",
        "import torchvision\n",
        "import torchvision.transforms as transforms\n",
        "\n",
        "########################################################################\n",
        "# The output of torchvision datasets are PILImage images of range [0, 1].\n",
        "# We transform them to Tensors of normalized range [-1, 1].\n",
        "\n",
        "batchSize = 1\n",
        "\n",
        "transform = transforms.Compose(\n",
        "    [transforms.ToTensor(),\n",
        "     transforms.Normalize((0.5,), (1.0,))])\n",
        "\n",
        "trainset = torchvision.datasets.MNIST(root='/Users/SwaggySpencerMcDee/Documents/ee569/MNIST', train=True,\n",
        "                                        download=True, transform=transform)\n",
        "trainloader = torch.utils.data.DataLoader(trainset, batch_size=batchSize,\n",
        "                                          shuffle=True, num_workers=2)\n",
        "\n",
        "testset = torchvision.datasets.MNIST(root='/Users/SwaggySpencerMcDee/Documents/ee569/MNIST', train=False,\n",
        "                                       download=True, transform=transform)\n",
        "testloader = torch.utils.data.DataLoader(testset, batch_size=batchSize,\n",
        "                                         shuffle=False, num_workers=2)\n",
        "\n",
        "classes = (0, 1, 2, 3, 4, 5, 6, 7, 8, 9)\n",
        "\n",
        "########################################################################\n",
        "# Let us show some of the training images, for fun.\n",
        "\n",
        "import matplotlib.pyplot as plt\n",
        "import numpy as np\n",
        "\n",
        "# functions to show an image\n",
        "\n",
        "\n",
        "def imshow(img):\n",
        "    img = img / 2 + 0.5     # unnormalize\n",
        "    npimg = img.numpy()\n",
        "    plt.imshow(np.transpose(npimg, (1, 2, 0)))\n",
        "    plt.show()\n",
        "\n",
        "\n",
        "# get some random training images\n",
        "dataiter = iter(trainloader)\n",
        "images, labels = dataiter.next()\n",
        "\n",
        "# show images\n",
        "imshow(torchvision.utils.make_grid(images))\n",
        "# print labels\n",
        "print(' '.join('%5s' % classes[labels[j]] for j in range(batchSize)))"
      ],
      "execution_count": 29,
      "outputs": [
        {
          "output_type": "display_data",
          "data": {
            "image/png": "[encoded data removed]",
            "text/plain": [
              "<Figure size 576x396 with 1 Axes>"
            ]
          },
          "metadata": {
            "tags": []
          }
        },
        {
          "output_type": "stream",
          "text": [
            "    3\n"
          ],
          "name": "stdout"
        }
      ]
    },
    {
      "metadata": {
        "id": "urjbRG9jk5yo",
        "colab_type": "code",
        "colab": {}
      },
      "cell_type": "code",
      "source": [
        "########################################################################\n",
        "# 2. Define a Convolutional Neural Network\n",
        "# ^^^^^^^^^^^^^^^^^^^^^^^^^^^^^^^^^^^^^^\n",
        "# Copy the neural network from the Neural Networks section before and modify it to\n",
        "# take 3-channel images (instead of 1-channel images as it was defined).\n",
        "\n",
        "import torch.nn as nn\n",
        "import torch.nn.functional as F\n",
        "\n",
        "\n",
        "class Net(nn.Module):\n",
        "    def __init__(self):\n",
        "        super(Net, self).__init__()\n",
        "        self.conv1 = nn.Conv2d(1, 6, 5, stride = 1, padding = 0)\n",
        "        self.pool = nn.MaxPool2d(2, 2)\n",
        "        self.conv2 = nn.Conv2d(6, 16, 5, stride = 1, padding = 0)\n",
        "        self.fc1 = nn.Linear(256 * batchSize, 120)\n",
        "        self.fc2 = nn.Linear(120, 80)\n",
        "        self.fc3 = nn.Linear(80, 10)\n",
        "\n",
        "    def forward(self, x):\n",
        "        x = self.pool(F.relu(self.conv1(x)))\n",
        "        x = self.pool(F.relu(self.conv2(x)))\n",
        "        x = x.view(-1, 256 * batchSize)\n",
        "        x = F.relu(self.fc1(x))\n",
        "        x = F.relu(self.fc2(x))\n",
        "        x = self.fc3(x)\n",
        "        return x\n",
        "\n",
        "\n",
        "net = Net()"
      ],
      "execution_count": 0,
      "outputs": []
    },
    {
      "metadata": {
        "id": "tkXujiPQnG9T",
        "colab_type": "code",
        "colab": {}
      },
      "cell_type": "code",
      "source": [
        "########################################################################\n",
        "# 3. Define a Loss function and optimizer\n",
        "# ^^^^^^^^^^^^^^^^^^^^^^^^^^^^^^^^^^^^^^^\n",
        "# Let's use a Classification Cross-Entropy loss and SGD with momentum.\n",
        "\n",
        "import torch.optim as optim\n",
        "\n",
        "criterion = nn.CrossEntropyLoss()\n",
        "optimizer = optim.SGD(net.parameters(), lr=0.001, momentum=0.9)"
      ],
      "execution_count": 0,
      "outputs": []
    },
    {
      "metadata": {
        "id": "ztoCcZ9YnM-f",
        "colab_type": "code",
        "colab": {
          "base_uri": "https://localhost:8080/",
          "height": 1054
        },
        "outputId": "ac135172-6bdc-4328-f1a5-a9066bf0a13b"
      },
      "cell_type": "code",
      "source": [
        "########################################################################\n",
        "# 4. Train the network\n",
        "# ^^^^^^^^^^^^^^^^^^^^\n",
        "#\n",
        "# This is when things start to get interesting.\n",
        "# We simply have to loop over our data iterator, and feed the inputs to the\n",
        "# network and optimize.\n",
        "\n",
        "#target GPU\n",
        "# device = torch.device(\"cuda:0\" if torch.cuda.is_available() else \"cpu\")\n",
        "# print(device)\n",
        "# net.to(device) # transfer netwrok to gpu\n",
        "\n",
        "# ADDED BY TA\n",
        "# net.train() # sets model to training mode (if you have drouout and BN, Batch Nom)\n",
        "\n",
        "for epoch in range(2):  # loop over the dataset multiple times\n",
        "\n",
        "    running_loss = 0.0\n",
        "    # iterate over data\n",
        "    for i, data in enumerate(trainloader, 0):\n",
        "        # get the inputs\n",
        "        inputs, labels = data\n",
        "        # transfer to gpu\n",
        "        # inputs, labels = inputs.to(device), labels.to(device)\n",
        "\n",
        "        # zero the parameter gradients\n",
        "        optimizer.zero_grad()\n",
        "\n",
        "        # forward + backward + optimize\n",
        "        outputs = net(inputs)\n",
        "        loss = criterion(outputs, labels)\n",
        "        loss.backward() # back-propogate loss\n",
        "        optimizer.step() # update weight\n",
        "\n",
        "        # print statistics\n",
        "        running_loss += loss.item()\n",
        "        if i % 2000 == 1999:    # print every 2000 mini-batches\n",
        "            print('[%d, %5d] loss: %.3f' %\n",
        "                  (epoch + 1, i + 1, running_loss / 2000))\n",
        "            running_loss = 0.0\n",
        "\n",
        "print('Finished Training')"
      ],
      "execution_count": 32,
      "outputs": [
        {
          "output_type": "stream",
          "text": [
            "[1,  2000] loss: 1.977\n",
            "[1,  4000] loss: 0.572\n",
            "[1,  6000] loss: 0.339\n",
            "[1,  8000] loss: 0.220\n",
            "[1, 10000] loss: 0.213\n",
            "[1, 12000] loss: 0.181\n",
            "[1, 14000] loss: 0.169\n",
            "[1, 16000] loss: 0.127\n",
            "[1, 18000] loss: 0.158\n",
            "[1, 20000] loss: 0.162\n",
            "[1, 22000] loss: 0.135\n",
            "[1, 24000] loss: 0.131\n",
            "[1, 26000] loss: 0.108\n",
            "[1, 28000] loss: 0.077\n",
            "[1, 30000] loss: 0.109\n",
            "[1, 32000] loss: 0.099\n",
            "[1, 34000] loss: 0.093\n",
            "[1, 36000] loss: 0.092\n",
            "[1, 38000] loss: 0.096\n",
            "[1, 40000] loss: 0.100\n",
            "[1, 42000] loss: 0.089\n",
            "[1, 44000] loss: 0.118\n",
            "[1, 46000] loss: 0.101\n",
            "[1, 48000] loss: 0.079\n",
            "[1, 50000] loss: 0.082\n",
            "[1, 52000] loss: 0.088\n",
            "[1, 54000] loss: 0.091\n",
            "[1, 56000] loss: 0.094\n",
            "[1, 58000] loss: 0.055\n",
            "[1, 60000] loss: 0.068\n",
            "[2,  2000] loss: 0.057\n",
            "[2,  4000] loss: 0.064\n",
            "[2,  6000] loss: 0.072\n",
            "[2,  8000] loss: 0.056\n",
            "[2, 10000] loss: 0.083\n",
            "[2, 12000] loss: 0.057\n",
            "[2, 14000] loss: 0.063\n",
            "[2, 16000] loss: 0.079\n",
            "[2, 18000] loss: 0.070\n",
            "[2, 20000] loss: 0.061\n",
            "[2, 22000] loss: 0.070\n",
            "[2, 24000] loss: 0.066\n",
            "[2, 26000] loss: 0.068\n",
            "[2, 28000] loss: 0.076\n",
            "[2, 30000] loss: 0.050\n",
            "[2, 32000] loss: 0.082\n",
            "[2, 34000] loss: 0.063\n",
            "[2, 36000] loss: 0.058\n",
            "[2, 38000] loss: 0.062\n",
            "[2, 40000] loss: 0.070\n",
            "[2, 42000] loss: 0.064\n",
            "[2, 44000] loss: 0.060\n",
            "[2, 46000] loss: 0.055\n",
            "[2, 48000] loss: 0.068\n",
            "[2, 50000] loss: 0.054\n",
            "[2, 52000] loss: 0.054\n",
            "[2, 54000] loss: 0.053\n",
            "[2, 56000] loss: 0.072\n",
            "[2, 58000] loss: 0.070\n",
            "[2, 60000] loss: 0.054\n",
            "Finished Training\n"
          ],
          "name": "stdout"
        }
      ]
    },
    {
      "metadata": {
        "id": "kQigUwf4tef4",
        "colab_type": "code",
        "colab": {
          "base_uri": "https://localhost:8080/",
          "height": 381
        },
        "outputId": "f8545996-3f46-4e5f-91be-26d4247776fd"
      },
      "cell_type": "code",
      "source": [
        "#######################################################################\n",
        "# 5. Test the network on the test data\n",
        "# ^^^^^^^^^^^^^^^^^^^^^^^^^^^^^^^^^^^^\n",
        "#\n",
        "# We have trained the network for 2 passes over the training dataset.\n",
        "# But we need to check if the network has learnt anything at all.\n",
        "#\n",
        "# We will check this by predicting the class label that the neural network\n",
        "# outputs, and checking it against the ground-truth. If the prediction is\n",
        "# correct, we add the sample to the list of correct predictions.\n",
        "#\n",
        "# Okay, first step. Let us display an image from the test set to get familiar.\n",
        "\n",
        "dataiter = iter(testloader)\n",
        "images, labels = dataiter.next()\n",
        "\n",
        "# print images\n",
        "imshow(torchvision.utils.make_grid(images))\n",
        "print('GroundTruth: ', ' '.join('%5s' % classes[labels[j]] for j in range(batchSize)))\n",
        "\n",
        "########################################################################\n",
        "# Okay, now let us see what the neural network thinks these examples above are:\n",
        "\n",
        "outputs = net(images)\n",
        "\n",
        "########################################################################\n",
        "# The outputs are energies for the 10 classes.\n",
        "# The higher the energy for a class, the more the network\n",
        "# thinks that the image is of the particular class.\n",
        "# So, let's get the index of the highest energy:\n",
        "_, predicted = torch.max(outputs, 1)\n",
        "\n",
        "print('Predicted: ', ' '.join('%5s' % classes[predicted[j]]\n",
        "                              for j in range(batchSize)))"
      ],
      "execution_count": 33,
      "outputs": [
        {
          "output_type": "display_data",
          "data": {
            "image/png": "[encoded data removed]",
            "text/plain": [
              "<Figure size 576x396 with 1 Axes>"
            ]
          },
          "metadata": {
            "tags": []
          }
        },
        {
          "output_type": "stream",
          "text": [
            "GroundTruth:      7\n",
            "Predicted:      7\n"
          ],
          "name": "stdout"
        }
      ]
    },
    {
      "metadata": {
        "id": "ckXcEEm5tmHT",
        "colab_type": "code",
        "colab": {
          "base_uri": "https://localhost:8080/",
          "height": 34
        },
        "outputId": "76b045e1-aecb-4cba-f6a7-c1444813446b"
      },
      "cell_type": "code",
      "source": [
        "########################################################################\n",
        "# The results seem pretty good.\n",
        "#\n",
        "# Let us look at how the network performs on the whole dataset.\n",
        "\n",
        "correct = 0\n",
        "total = 0\n",
        "# net.eval()\n",
        "with torch.no_grad():\n",
        "    for data in testloader:\n",
        "        images, labels = data\n",
        "        outputs = net(images)\n",
        "        _, predicted = torch.max(outputs.data, 1)\n",
        "        total += labels.size(0)\n",
        "        correct += (predicted == labels).sum().item()\n",
        "\n",
        "print('Accuracy of the network on the 10000 test images: %d %%' % (\n",
        "    100 * correct / total))"
      ],
      "execution_count": 34,
      "outputs": [
        {
          "output_type": "stream",
          "text": [
            "Accuracy of the network on the 10000 test images: 98 %\n"
          ],
          "name": "stdout"
        }
      ]
    }
  ]
}